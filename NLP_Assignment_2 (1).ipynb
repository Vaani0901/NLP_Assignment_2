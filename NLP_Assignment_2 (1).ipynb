{
  "cells": [
    {
      "cell_type": "markdown",
      "metadata": {
        "id": "U3zjPoe9vum8"
      },
      "source": [
        "# Loading Libraries"
      ]
    },
    {
      "cell_type": "code",
      "execution_count": 1,
      "metadata": {
        "id": "bvXdYUp4ul-4"
      },
      "outputs": [],
      "source": [
        "import numpy as np\n",
        "import pandas as pd\n",
        "import nltk\n",
        "import spacy"
      ]
    },
    {
      "cell_type": "code",
      "execution_count": 2,
      "metadata": {
        "colab": {
          "base_uri": "https://localhost:8080/"
        },
        "id": "Ija1pawIvGdD",
        "outputId": "de0ebcec-f398-4cb4-d57a-7e784f650873"
      },
      "outputs": [
        {
          "output_type": "stream",
          "name": "stderr",
          "text": [
            "[nltk_data] Downloading package punkt to /root/nltk_data...\n",
            "[nltk_data]   Unzipping tokenizers/punkt.zip.\n",
            "[nltk_data] Downloading package wordnet to /root/nltk_data...\n",
            "[nltk_data] Downloading package stopwords to /root/nltk_data...\n",
            "[nltk_data]   Unzipping corpora/stopwords.zip.\n"
          ]
        },
        {
          "output_type": "execute_result",
          "data": {
            "text/plain": [
              "True"
            ]
          },
          "metadata": {},
          "execution_count": 2
        }
      ],
      "source": [
        "# Load NLTK resources\n",
        "nltk.download('punkt')\n",
        "nltk.download('wordnet')\n",
        "nltk.download('stopwords')"
      ]
    },
    {
      "cell_type": "code",
      "execution_count": 3,
      "metadata": {
        "id": "PoYzvy_xvQ6G"
      },
      "outputs": [],
      "source": [
        "# Load the small SpaCy model\n",
        "nlp = spacy.load('en_core_web_sm')"
      ]
    },
    {
      "cell_type": "code",
      "execution_count": 4,
      "metadata": {
        "colab": {
          "base_uri": "https://localhost:8080/"
        },
        "id": "8PJ3MCa5KJIW",
        "outputId": "92f1e400-41c7-4a8f-dc6c-df0e4d215bd7"
      },
      "outputs": [
        {
          "output_type": "stream",
          "name": "stdout",
          "text": [
            "Mounted at /content/drive\n"
          ]
        }
      ],
      "source": [
        "from google.colab import drive\n",
        "drive.mount('/content/drive')"
      ]
    },
    {
      "cell_type": "code",
      "execution_count": 5,
      "metadata": {
        "colab": {
          "base_uri": "https://localhost:8080/",
          "height": 423
        },
        "id": "i5_-b9FVvZOS",
        "outputId": "115fd842-fc30-430a-a93e-4378487e95b8"
      },
      "outputs": [
        {
          "output_type": "execute_result",
          "data": {
            "text/plain": [
              "        Class Index                                              Title  \\\n",
              "0                 3  Wall St. Bears Claw Back Into the Black (Reuters)   \n",
              "1                 3  Carlyle Looks Toward Commercial Aerospace (Reu...   \n",
              "2                 3    Oil and Economy Cloud Stocks' Outlook (Reuters)   \n",
              "3                 3  Iraq Halts Oil Exports from Main Southern Pipe...   \n",
              "4                 3  Oil prices soar to all-time record, posing new...   \n",
              "...             ...                                                ...   \n",
              "119995            1  Pakistan's Musharraf Says Won't Quit as Army C...   \n",
              "119996            2                  Renteria signing a top-shelf deal   \n",
              "119997            2                    Saban not going to Dolphins yet   \n",
              "119998            2                                  Today's NFL games   \n",
              "119999            2                       Nets get Carter from Raptors   \n",
              "\n",
              "                                              Description  \n",
              "0       Reuters - Short-sellers, Wall Street's dwindli...  \n",
              "1       Reuters - Private investment firm Carlyle Grou...  \n",
              "2       Reuters - Soaring crude prices plus worries\\ab...  \n",
              "3       Reuters - Authorities have halted oil export\\f...  \n",
              "4       AFP - Tearaway world oil prices, toppling reco...  \n",
              "...                                                   ...  \n",
              "119995   KARACHI (Reuters) - Pakistani President Perve...  \n",
              "119996  Red Sox general manager Theo Epstein acknowled...  \n",
              "119997  The Miami Dolphins will put their courtship of...  \n",
              "119998  PITTSBURGH at NY GIANTS Time: 1:30 p.m. Line: ...  \n",
              "119999  INDIANAPOLIS -- All-Star Vince Carter was trad...  \n",
              "\n",
              "[120000 rows x 3 columns]"
            ],
            "text/html": [
              "\n",
              "  <div id=\"df-950587ad-5fb6-4b8b-8e34-cb887907ca6c\" class=\"colab-df-container\">\n",
              "    <div>\n",
              "<style scoped>\n",
              "    .dataframe tbody tr th:only-of-type {\n",
              "        vertical-align: middle;\n",
              "    }\n",
              "\n",
              "    .dataframe tbody tr th {\n",
              "        vertical-align: top;\n",
              "    }\n",
              "\n",
              "    .dataframe thead th {\n",
              "        text-align: right;\n",
              "    }\n",
              "</style>\n",
              "<table border=\"1\" class=\"dataframe\">\n",
              "  <thead>\n",
              "    <tr style=\"text-align: right;\">\n",
              "      <th></th>\n",
              "      <th>Class Index</th>\n",
              "      <th>Title</th>\n",
              "      <th>Description</th>\n",
              "    </tr>\n",
              "  </thead>\n",
              "  <tbody>\n",
              "    <tr>\n",
              "      <th>0</th>\n",
              "      <td>3</td>\n",
              "      <td>Wall St. Bears Claw Back Into the Black (Reuters)</td>\n",
              "      <td>Reuters - Short-sellers, Wall Street's dwindli...</td>\n",
              "    </tr>\n",
              "    <tr>\n",
              "      <th>1</th>\n",
              "      <td>3</td>\n",
              "      <td>Carlyle Looks Toward Commercial Aerospace (Reu...</td>\n",
              "      <td>Reuters - Private investment firm Carlyle Grou...</td>\n",
              "    </tr>\n",
              "    <tr>\n",
              "      <th>2</th>\n",
              "      <td>3</td>\n",
              "      <td>Oil and Economy Cloud Stocks' Outlook (Reuters)</td>\n",
              "      <td>Reuters - Soaring crude prices plus worries\\ab...</td>\n",
              "    </tr>\n",
              "    <tr>\n",
              "      <th>3</th>\n",
              "      <td>3</td>\n",
              "      <td>Iraq Halts Oil Exports from Main Southern Pipe...</td>\n",
              "      <td>Reuters - Authorities have halted oil export\\f...</td>\n",
              "    </tr>\n",
              "    <tr>\n",
              "      <th>4</th>\n",
              "      <td>3</td>\n",
              "      <td>Oil prices soar to all-time record, posing new...</td>\n",
              "      <td>AFP - Tearaway world oil prices, toppling reco...</td>\n",
              "    </tr>\n",
              "    <tr>\n",
              "      <th>...</th>\n",
              "      <td>...</td>\n",
              "      <td>...</td>\n",
              "      <td>...</td>\n",
              "    </tr>\n",
              "    <tr>\n",
              "      <th>119995</th>\n",
              "      <td>1</td>\n",
              "      <td>Pakistan's Musharraf Says Won't Quit as Army C...</td>\n",
              "      <td>KARACHI (Reuters) - Pakistani President Perve...</td>\n",
              "    </tr>\n",
              "    <tr>\n",
              "      <th>119996</th>\n",
              "      <td>2</td>\n",
              "      <td>Renteria signing a top-shelf deal</td>\n",
              "      <td>Red Sox general manager Theo Epstein acknowled...</td>\n",
              "    </tr>\n",
              "    <tr>\n",
              "      <th>119997</th>\n",
              "      <td>2</td>\n",
              "      <td>Saban not going to Dolphins yet</td>\n",
              "      <td>The Miami Dolphins will put their courtship of...</td>\n",
              "    </tr>\n",
              "    <tr>\n",
              "      <th>119998</th>\n",
              "      <td>2</td>\n",
              "      <td>Today's NFL games</td>\n",
              "      <td>PITTSBURGH at NY GIANTS Time: 1:30 p.m. Line: ...</td>\n",
              "    </tr>\n",
              "    <tr>\n",
              "      <th>119999</th>\n",
              "      <td>2</td>\n",
              "      <td>Nets get Carter from Raptors</td>\n",
              "      <td>INDIANAPOLIS -- All-Star Vince Carter was trad...</td>\n",
              "    </tr>\n",
              "  </tbody>\n",
              "</table>\n",
              "<p>120000 rows × 3 columns</p>\n",
              "</div>\n",
              "    <div class=\"colab-df-buttons\">\n",
              "\n",
              "  <div class=\"colab-df-container\">\n",
              "    <button class=\"colab-df-convert\" onclick=\"convertToInteractive('df-950587ad-5fb6-4b8b-8e34-cb887907ca6c')\"\n",
              "            title=\"Convert this dataframe to an interactive table.\"\n",
              "            style=\"display:none;\">\n",
              "\n",
              "  <svg xmlns=\"http://www.w3.org/2000/svg\" height=\"24px\" viewBox=\"0 -960 960 960\">\n",
              "    <path d=\"M120-120v-720h720v720H120Zm60-500h600v-160H180v160Zm220 220h160v-160H400v160Zm0 220h160v-160H400v160ZM180-400h160v-160H180v160Zm440 0h160v-160H620v160ZM180-180h160v-160H180v160Zm440 0h160v-160H620v160Z\"/>\n",
              "  </svg>\n",
              "    </button>\n",
              "\n",
              "  <style>\n",
              "    .colab-df-container {\n",
              "      display:flex;\n",
              "      gap: 12px;\n",
              "    }\n",
              "\n",
              "    .colab-df-convert {\n",
              "      background-color: #E8F0FE;\n",
              "      border: none;\n",
              "      border-radius: 50%;\n",
              "      cursor: pointer;\n",
              "      display: none;\n",
              "      fill: #1967D2;\n",
              "      height: 32px;\n",
              "      padding: 0 0 0 0;\n",
              "      width: 32px;\n",
              "    }\n",
              "\n",
              "    .colab-df-convert:hover {\n",
              "      background-color: #E2EBFA;\n",
              "      box-shadow: 0px 1px 2px rgba(60, 64, 67, 0.3), 0px 1px 3px 1px rgba(60, 64, 67, 0.15);\n",
              "      fill: #174EA6;\n",
              "    }\n",
              "\n",
              "    .colab-df-buttons div {\n",
              "      margin-bottom: 4px;\n",
              "    }\n",
              "\n",
              "    [theme=dark] .colab-df-convert {\n",
              "      background-color: #3B4455;\n",
              "      fill: #D2E3FC;\n",
              "    }\n",
              "\n",
              "    [theme=dark] .colab-df-convert:hover {\n",
              "      background-color: #434B5C;\n",
              "      box-shadow: 0px 1px 3px 1px rgba(0, 0, 0, 0.15);\n",
              "      filter: drop-shadow(0px 1px 2px rgba(0, 0, 0, 0.3));\n",
              "      fill: #FFFFFF;\n",
              "    }\n",
              "  </style>\n",
              "\n",
              "    <script>\n",
              "      const buttonEl =\n",
              "        document.querySelector('#df-950587ad-5fb6-4b8b-8e34-cb887907ca6c button.colab-df-convert');\n",
              "      buttonEl.style.display =\n",
              "        google.colab.kernel.accessAllowed ? 'block' : 'none';\n",
              "\n",
              "      async function convertToInteractive(key) {\n",
              "        const element = document.querySelector('#df-950587ad-5fb6-4b8b-8e34-cb887907ca6c');\n",
              "        const dataTable =\n",
              "          await google.colab.kernel.invokeFunction('convertToInteractive',\n",
              "                                                    [key], {});\n",
              "        if (!dataTable) return;\n",
              "\n",
              "        const docLinkHtml = 'Like what you see? Visit the ' +\n",
              "          '<a target=\"_blank\" href=https://colab.research.google.com/notebooks/data_table.ipynb>data table notebook</a>'\n",
              "          + ' to learn more about interactive tables.';\n",
              "        element.innerHTML = '';\n",
              "        dataTable['output_type'] = 'display_data';\n",
              "        await google.colab.output.renderOutput(dataTable, element);\n",
              "        const docLink = document.createElement('div');\n",
              "        docLink.innerHTML = docLinkHtml;\n",
              "        element.appendChild(docLink);\n",
              "      }\n",
              "    </script>\n",
              "  </div>\n",
              "\n",
              "\n",
              "<div id=\"df-37170572-6e52-4522-9b4e-d12d74b71892\">\n",
              "  <button class=\"colab-df-quickchart\" onclick=\"quickchart('df-37170572-6e52-4522-9b4e-d12d74b71892')\"\n",
              "            title=\"Suggest charts.\"\n",
              "            style=\"display:none;\">\n",
              "\n",
              "<svg xmlns=\"http://www.w3.org/2000/svg\" height=\"24px\"viewBox=\"0 0 24 24\"\n",
              "     width=\"24px\">\n",
              "    <g>\n",
              "        <path d=\"M19 3H5c-1.1 0-2 .9-2 2v14c0 1.1.9 2 2 2h14c1.1 0 2-.9 2-2V5c0-1.1-.9-2-2-2zM9 17H7v-7h2v7zm4 0h-2V7h2v10zm4 0h-2v-4h2v4z\"/>\n",
              "    </g>\n",
              "</svg>\n",
              "  </button>\n",
              "\n",
              "<style>\n",
              "  .colab-df-quickchart {\n",
              "      --bg-color: #E8F0FE;\n",
              "      --fill-color: #1967D2;\n",
              "      --hover-bg-color: #E2EBFA;\n",
              "      --hover-fill-color: #174EA6;\n",
              "      --disabled-fill-color: #AAA;\n",
              "      --disabled-bg-color: #DDD;\n",
              "  }\n",
              "\n",
              "  [theme=dark] .colab-df-quickchart {\n",
              "      --bg-color: #3B4455;\n",
              "      --fill-color: #D2E3FC;\n",
              "      --hover-bg-color: #434B5C;\n",
              "      --hover-fill-color: #FFFFFF;\n",
              "      --disabled-bg-color: #3B4455;\n",
              "      --disabled-fill-color: #666;\n",
              "  }\n",
              "\n",
              "  .colab-df-quickchart {\n",
              "    background-color: var(--bg-color);\n",
              "    border: none;\n",
              "    border-radius: 50%;\n",
              "    cursor: pointer;\n",
              "    display: none;\n",
              "    fill: var(--fill-color);\n",
              "    height: 32px;\n",
              "    padding: 0;\n",
              "    width: 32px;\n",
              "  }\n",
              "\n",
              "  .colab-df-quickchart:hover {\n",
              "    background-color: var(--hover-bg-color);\n",
              "    box-shadow: 0 1px 2px rgba(60, 64, 67, 0.3), 0 1px 3px 1px rgba(60, 64, 67, 0.15);\n",
              "    fill: var(--button-hover-fill-color);\n",
              "  }\n",
              "\n",
              "  .colab-df-quickchart-complete:disabled,\n",
              "  .colab-df-quickchart-complete:disabled:hover {\n",
              "    background-color: var(--disabled-bg-color);\n",
              "    fill: var(--disabled-fill-color);\n",
              "    box-shadow: none;\n",
              "  }\n",
              "\n",
              "  .colab-df-spinner {\n",
              "    border: 2px solid var(--fill-color);\n",
              "    border-color: transparent;\n",
              "    border-bottom-color: var(--fill-color);\n",
              "    animation:\n",
              "      spin 1s steps(1) infinite;\n",
              "  }\n",
              "\n",
              "  @keyframes spin {\n",
              "    0% {\n",
              "      border-color: transparent;\n",
              "      border-bottom-color: var(--fill-color);\n",
              "      border-left-color: var(--fill-color);\n",
              "    }\n",
              "    20% {\n",
              "      border-color: transparent;\n",
              "      border-left-color: var(--fill-color);\n",
              "      border-top-color: var(--fill-color);\n",
              "    }\n",
              "    30% {\n",
              "      border-color: transparent;\n",
              "      border-left-color: var(--fill-color);\n",
              "      border-top-color: var(--fill-color);\n",
              "      border-right-color: var(--fill-color);\n",
              "    }\n",
              "    40% {\n",
              "      border-color: transparent;\n",
              "      border-right-color: var(--fill-color);\n",
              "      border-top-color: var(--fill-color);\n",
              "    }\n",
              "    60% {\n",
              "      border-color: transparent;\n",
              "      border-right-color: var(--fill-color);\n",
              "    }\n",
              "    80% {\n",
              "      border-color: transparent;\n",
              "      border-right-color: var(--fill-color);\n",
              "      border-bottom-color: var(--fill-color);\n",
              "    }\n",
              "    90% {\n",
              "      border-color: transparent;\n",
              "      border-bottom-color: var(--fill-color);\n",
              "    }\n",
              "  }\n",
              "</style>\n",
              "\n",
              "  <script>\n",
              "    async function quickchart(key) {\n",
              "      const quickchartButtonEl =\n",
              "        document.querySelector('#' + key + ' button');\n",
              "      quickchartButtonEl.disabled = true;  // To prevent multiple clicks.\n",
              "      quickchartButtonEl.classList.add('colab-df-spinner');\n",
              "      try {\n",
              "        const charts = await google.colab.kernel.invokeFunction(\n",
              "            'suggestCharts', [key], {});\n",
              "      } catch (error) {\n",
              "        console.error('Error during call to suggestCharts:', error);\n",
              "      }\n",
              "      quickchartButtonEl.classList.remove('colab-df-spinner');\n",
              "      quickchartButtonEl.classList.add('colab-df-quickchart-complete');\n",
              "    }\n",
              "    (() => {\n",
              "      let quickchartButtonEl =\n",
              "        document.querySelector('#df-37170572-6e52-4522-9b4e-d12d74b71892 button');\n",
              "      quickchartButtonEl.style.display =\n",
              "        google.colab.kernel.accessAllowed ? 'block' : 'none';\n",
              "    })();\n",
              "  </script>\n",
              "</div>\n",
              "    </div>\n",
              "  </div>\n"
            ]
          },
          "metadata": {},
          "execution_count": 5
        }
      ],
      "source": [
        "# Load dataset into a DataFrame\n",
        "data = pd.read_csv('/content/drive/MyDrive/train.csv')\n",
        "df = pd.DataFrame(data)\n",
        "df"
      ]
    },
    {
      "cell_type": "markdown",
      "metadata": {
        "id": "tPsxmY6Lv1FX"
      },
      "source": [
        "# Preprocessing the Data"
      ]
    },
    {
      "cell_type": "markdown",
      "metadata": {
        "id": "WpVTCChlv7pO"
      },
      "source": [
        "## 2.a) Removing Empty Rows and Duplicates"
      ]
    },
    {
      "cell_type": "code",
      "execution_count": 6,
      "metadata": {
        "colab": {
          "base_uri": "https://localhost:8080/"
        },
        "id": "_jUk4UGLw90p",
        "outputId": "90dce23d-8728-4e6e-d932-a649c69d5e85"
      },
      "outputs": [
        {
          "output_type": "execute_result",
          "data": {
            "text/plain": [
              "Class Index    0\n",
              "Title          0\n",
              "Description    0\n",
              "dtype: int64"
            ]
          },
          "metadata": {},
          "execution_count": 6
        }
      ],
      "source": [
        "#Printing how many null values are present initially\n",
        "df.isnull().sum()"
      ]
    },
    {
      "cell_type": "code",
      "execution_count": 7,
      "metadata": {
        "colab": {
          "base_uri": "https://localhost:8080/"
        },
        "id": "HdeHylhOyx7C",
        "outputId": "218043b5-ad4c-4049-c1a9-b3cd25541b50"
      },
      "outputs": [
        {
          "output_type": "execute_result",
          "data": {
            "text/plain": [
              "1277"
            ]
          },
          "metadata": {},
          "execution_count": 7
        }
      ],
      "source": [
        "#Checking for duplicates initially\n",
        "df.duplicated(subset=['Description']).sum()"
      ]
    },
    {
      "cell_type": "code",
      "execution_count": 8,
      "metadata": {
        "id": "hqc7_Noovp6x"
      },
      "outputs": [],
      "source": [
        "#Dropping empty rows\n",
        "df.dropna(subset=['Description'], inplace=True)\n",
        "\n",
        "#Dropping dublicates\n",
        "df.drop_duplicates(subset=['Description'], inplace=True)"
      ]
    },
    {
      "cell_type": "code",
      "execution_count": 9,
      "metadata": {
        "colab": {
          "base_uri": "https://localhost:8080/"
        },
        "id": "8_75M2RSxI7x",
        "outputId": "7cfc3bf8-734a-47fa-b0de-adf699e53522"
      },
      "outputs": [
        {
          "output_type": "execute_result",
          "data": {
            "text/plain": [
              "Class Index    0\n",
              "Title          0\n",
              "Description    0\n",
              "dtype: int64"
            ]
          },
          "metadata": {},
          "execution_count": 9
        }
      ],
      "source": [
        "#Checking how many null values are present after dropping\n",
        "df.isnull().sum()"
      ]
    },
    {
      "cell_type": "code",
      "execution_count": 10,
      "metadata": {
        "colab": {
          "base_uri": "https://localhost:8080/"
        },
        "id": "JFHMPaFKyo0V",
        "outputId": "5fb21009-d7e1-4b93-8397-db7cca4b37a1"
      },
      "outputs": [
        {
          "output_type": "execute_result",
          "data": {
            "text/plain": [
              "0"
            ]
          },
          "metadata": {},
          "execution_count": 10
        }
      ],
      "source": [
        "#Checking for duplicates after dropping\n",
        "df.duplicated(subset=['Description']).sum()"
      ]
    },
    {
      "cell_type": "markdown",
      "metadata": {
        "id": "T84jGxmNzHOz"
      },
      "source": [
        "## 2.b) Tokenization and Lemmatization"
      ]
    },
    {
      "cell_type": "code",
      "execution_count": 11,
      "metadata": {
        "id": "h9zh3za4zCMM"
      },
      "outputs": [],
      "source": [
        "#Importing Tokenizer and Lemmatizer\n",
        "from nltk.tokenize import word_tokenize\n",
        "from nltk.stem import WordNetLemmatizer\n",
        "\n",
        "#Tokenizing and Lemmatizing Text\n",
        "def tokenize_and_lemmatize(text):\n",
        "    tokens = word_tokenize(text)\n",
        "    lemmatizer = WordNetLemmatizer()\n",
        "    lemmatized_tokens = [lemmatizer.lemmatize(token) for token in tokens]\n",
        "    return lemmatized_tokens\n",
        "\n",
        "df['Description'] = df['Description'].apply(tokenize_and_lemmatize)"
      ]
    },
    {
      "cell_type": "markdown",
      "metadata": {
        "id": "jufq7gjz0B8o"
      },
      "source": [
        "## 2.c) Data Cleansing"
      ]
    },
    {
      "cell_type": "code",
      "execution_count": 12,
      "metadata": {
        "colab": {
          "base_uri": "https://localhost:8080/"
        },
        "id": "4ICo53F_NdK4",
        "outputId": "017c0869-4520-4e07-c7b3-07db17534533"
      },
      "outputs": [
        {
          "output_type": "stream",
          "name": "stdout",
          "text": [
            "object\n"
          ]
        }
      ],
      "source": [
        "# Check the data type of the 'Description' column\n",
        "print(df['Description'].dtype)\n",
        "\n",
        "# Convert the 'Description' column to string if needed\n",
        "df['Description'] = df['Description'].astype(str)"
      ]
    },
    {
      "cell_type": "code",
      "execution_count": 13,
      "metadata": {
        "id": "m0ooXiyozkAj"
      },
      "outputs": [],
      "source": [
        "#Importing re library\n",
        "import re\n",
        "\n",
        "#Function to clean text\n",
        "def clean_text(text):\n",
        "\n",
        "    # Step 1: Remove URLs and HTTP tags\n",
        "    text = re.sub(r'http\\S+', '', text)  # Remove URLs\n",
        "    text = re.sub(r'www\\S+', '', text)    # Remove URLs\n",
        "    text = re.sub(r'<.*?>', '', text)     # Remove HTML tags\n",
        "\n",
        "    # Step 2: Remove emojis\n",
        "    emoji_pattern = re.compile(\"[\"\n",
        "        u\"\\U0001F600-\\U0001F64F\"  # emoticons\n",
        "        u\"\\U0001F300-\\U0001F5FF\"  # symbols & pictographs\n",
        "                           \"]+\", flags=re.UNICODE)\n",
        "    text = emoji_pattern.sub(r'', text)  # Remove emojis\n",
        "\n",
        "    # Step 3: Remove symbols and special characters\n",
        "    text = re.sub(r'[^\\w\\s]', '', text)  # Remove non-alphanumeric characters\n",
        "\n",
        "    # Step 4: Remove excess whitespaces\n",
        "    text = ' '.join(text.split())  # Remove extra whitespaces\n",
        "\n",
        "    return text\n",
        "\n",
        "# Apply the clean_text function to the 'text' column\n",
        "df['Description'] = df['Description'].apply(clean_text)"
      ]
    },
    {
      "cell_type": "code",
      "execution_count": 14,
      "metadata": {
        "id": "v6peQjJh0UMX"
      },
      "outputs": [],
      "source": [
        "# Step 5: Remove stopwords\n",
        "\n",
        "#Import stopwords from nltk\n",
        "from nltk.corpus import stopwords\n",
        "\n",
        "stop_words = set(stopwords.words('english'))\n",
        "df['Description'] = df['Description'].apply(lambda x: ' '.join([word for word in word_tokenize(x) if word.lower() not in stop_words]))"
      ]
    },
    {
      "cell_type": "code",
      "execution_count": 15,
      "metadata": {
        "colab": {
          "base_uri": "https://localhost:8080/"
        },
        "id": "SIPW2fd6OgF8",
        "outputId": "00535a5f-2cca-49ea-8224-a3d5597da9aa"
      },
      "outputs": [
        {
          "output_type": "stream",
          "name": "stdout",
          "text": [
            "0         Reuters Shortsellers Wall Street dwindlingband...\n",
            "1         Reuters Private investment firm Carlyle Group ...\n",
            "2         Reuters Soaring crude price plus worriesabout ...\n",
            "3         Reuters Authorities halted oil exportflows mai...\n",
            "4         AFP Tearaway world oil price toppling record s...\n",
            "                                ...                        \n",
            "119995    KARACHI Reuters Pakistani President Pervez Mus...\n",
            "119996    Red Sox general manager Theo Epstein acknowled...\n",
            "119997    Miami Dolphins put courtship LSU coach Nick Sa...\n",
            "119998    PITTSBURGH NY GIANTS Time 130 pm Line Steelers...\n",
            "119999    INDIANAPOLIS AllStar Vince Carter wa traded To...\n",
            "Name: Description, Length: 118723, dtype: object\n"
          ]
        }
      ],
      "source": [
        "#Print the cleaned text\n",
        "print(df['Description'])"
      ]
    },
    {
      "cell_type": "markdown",
      "metadata": {
        "id": "ERP8Tl9MO18A"
      },
      "source": [
        "## 2.d) Lowercase the strings, Replace Abbreviations and Fix Contractions"
      ]
    },
    {
      "cell_type": "code",
      "execution_count": 16,
      "metadata": {
        "colab": {
          "base_uri": "https://localhost:8080/"
        },
        "id": "D8BE_L0iOqrI",
        "outputId": "d386e0f1-d38c-4952-d946-42cfffc15738"
      },
      "outputs": [
        {
          "output_type": "execute_result",
          "data": {
            "text/plain": [
              "0    reuters shortsellers wall street dwindlingband...\n",
              "1    reuters private investment firm carlyle group ...\n",
              "2    reuters soaring crude price plus worriesabout ...\n",
              "3    reuters authorities halted oil exportflows mai...\n",
              "4    afp tearaway world oil price toppling record s...\n",
              "Name: Description, dtype: object"
            ]
          },
          "metadata": {},
          "execution_count": 16
        }
      ],
      "source": [
        "# Lowercasing the strings\n",
        "df['Description'] = df['Description'].str.lower()\n",
        "\n",
        "# Print data\n",
        "df['Description'].head()"
      ]
    },
    {
      "cell_type": "code",
      "execution_count": 17,
      "metadata": {
        "id": "8GpBKDZyPPaX"
      },
      "outputs": [],
      "source": [
        "# Define abbreviations\n",
        "abbreviation_mapping = {\n",
        "    'u': 'you',\n",
        "    'r': 'are',\n",
        "    'y': 'why',\n",
        "}"
      ]
    },
    {
      "cell_type": "code",
      "execution_count": 18,
      "metadata": {
        "id": "UF5dp4MpPtxa"
      },
      "outputs": [],
      "source": [
        "# Define contractions\n",
        "contraction_mapping = {\n",
        "    \"i'm\": \"i am\",\n",
        "    \"you're\": \"you are\",\n",
        "    \"they're\":'they are'\n",
        "}"
      ]
    },
    {
      "cell_type": "code",
      "execution_count": 19,
      "metadata": {
        "id": "v_JG1k5TQV28"
      },
      "outputs": [],
      "source": [
        "# Function to replace abbreviations and contractions\n",
        "def replace_abbreviations_and_contractions(text):\n",
        "    for abbrev, replacement in abbreviation_mapping.items():\n",
        "        text = text.replace(abbrev, replacement)\n",
        "    for contraction, expanded in contraction_mapping.items():\n",
        "        text = text.replace(contraction, expanded)\n",
        "    return text\n",
        "\n",
        "df['Description'] = df['Description'].apply(replace_abbreviations_and_contractions)"
      ]
    },
    {
      "cell_type": "markdown",
      "metadata": {
        "id": "GfKbPvNcQsHU"
      },
      "source": [
        "# LSTM Model"
      ]
    },
    {
      "cell_type": "markdown",
      "metadata": {
        "id": "BkaNlR8TQuq2"
      },
      "source": [
        "## 1. Single Layer LSTM with First Set of Results"
      ]
    },
    {
      "cell_type": "code",
      "execution_count": 20,
      "metadata": {
        "id": "LcOtc9BVQi-U"
      },
      "outputs": [],
      "source": [
        "#Import train_test_split\n",
        "from sklearn.model_selection import train_test_split\n",
        "\n",
        "# Split the data into train and test sets\n",
        "X_train, X_test, y_train, y_test = train_test_split(df['Description'], df['Class Index'], test_size=0.2, random_state=42)"
      ]
    },
    {
      "cell_type": "code",
      "execution_count": 21,
      "metadata": {
        "id": "Wk_0EFoERKX9"
      },
      "outputs": [],
      "source": [
        "\n",
        "\n"
      ]
    },
    {
      "cell_type": "code",
      "execution_count": 22,
      "metadata": {
        "id": "cHOl6OvUTYKJ"
      },
      "outputs": [],
      "source": [
        "from tensorflow.keras.preprocessing.text import Tokenizer\n",
        "from tensorflow.keras.preprocessing.sequence import pad_sequences\n",
        "\n",
        "# Step 1: Tokenize text data\n",
        "tokenizer = Tokenizer(num_words= 10000)\n",
        "tokenizer.fit_on_texts(X_train)\n",
        "\n",
        "X_train_sequences = tokenizer.texts_to_sequences(X_train)\n",
        "X_test_sequences = tokenizer.texts_to_sequences(X_test)\n",
        "\n",
        "# Step 2: Pad sequences to a fixed length\n",
        "X_train_padded = pad_sequences(X_train_sequences, maxlen= 50, padding='post')\n",
        "X_test_padded = pad_sequences(X_test_sequences, maxlen= 50, padding='post')\n"
      ]
    },
    {
      "cell_type": "code",
      "execution_count": 23,
      "metadata": {
        "colab": {
          "base_uri": "https://localhost:8080/"
        },
        "id": "Lp9_RLjvRTPC",
        "outputId": "8a930cb0-6f8d-4a88-b951-8e9e7aa1b9a9"
      },
      "outputs": [
        {
          "output_type": "stream",
          "name": "stdout",
          "text": [
            "Model: \"sequential\"\n",
            "_________________________________________________________________\n",
            " Layer (type)                Output Shape              Param #   \n",
            "=================================================================\n",
            " embedding (Embedding)       (None, 50, 50)            500000    \n",
            "                                                                 \n",
            " lstm (LSTM)                 (None, 32)                10624     \n",
            "                                                                 \n",
            " dense (Dense)               (None, 1)                 33        \n",
            "                                                                 \n",
            "=================================================================\n",
            "Total params: 510,657\n",
            "Trainable params: 510,657\n",
            "Non-trainable params: 0\n",
            "_________________________________________________________________\n",
            "Epoch 1/5\n",
            "23745/23745 [==============================] - 193s 8ms/step - loss: -559.4263 - accuracy: 0.2516 - val_loss: -1116.6958 - val_accuracy: 0.2469\n",
            "Epoch 2/5\n",
            "23745/23745 [==============================] - 163s 7ms/step - loss: -1655.6617 - accuracy: 0.2516 - val_loss: -2221.8945 - val_accuracy: 0.2469\n",
            "Epoch 3/5\n",
            "23745/23745 [==============================] - 163s 7ms/step - loss: -2749.8103 - accuracy: 0.2516 - val_loss: -3326.4419 - val_accuracy: 0.2469\n",
            "Epoch 4/5\n",
            "23745/23745 [==============================] - 163s 7ms/step - loss: -3847.5686 - accuracy: 0.2516 - val_loss: -4432.4019 - val_accuracy: 0.2469\n",
            "Epoch 5/5\n",
            "23745/23745 [==============================] - 171s 7ms/step - loss: -4942.1392 - accuracy: 0.2516 - val_loss: -5536.3823 - val_accuracy: 0.2469\n"
          ]
        },
        {
          "output_type": "execute_result",
          "data": {
            "text/plain": [
              "<keras.callbacks.History at 0x7e777153bc70>"
            ]
          },
          "metadata": {},
          "execution_count": 23
        }
      ],
      "source": [
        "#Importing necessary libraries\n",
        "from tensorflow.keras.models import Sequential\n",
        "from tensorflow.keras.layers import Embedding, LSTM, Dense\n",
        "\n",
        "# Build and train the first LSTM model\n",
        "model_1 = Sequential()\n",
        "model_1.add(Embedding(input_dim= 10000, output_dim= 50, input_length= 50))\n",
        "model_1.add(LSTM(32))\n",
        "model_1.add(Dense(1, activation='sigmoid'))\n",
        "model_1.compile(optimizer='adam', loss='binary_crossentropy', metrics=['accuracy'])\n",
        "model_1.summary()\n",
        "\n",
        "model_1.fit(X_train_padded, y_train, batch_size = 4, epochs= 5, validation_data=(X_test_padded, y_test))"
      ]
    },
    {
      "cell_type": "markdown",
      "metadata": {
        "id": "XddqEsNtSTPn"
      },
      "source": [
        "## 2. Two Layer LSTM with Second Set of Results"
      ]
    },
    {
      "cell_type": "code",
      "execution_count": 24,
      "metadata": {
        "id": "UJjHat3tb5w9"
      },
      "outputs": [],
      "source": [
        "# Tokenize text data\n",
        "tokenizer = Tokenizer(num_words= 10000)\n",
        "tokenizer.fit_on_texts(X_train)\n",
        "\n",
        "X_train_sequences = tokenizer.texts_to_sequences(X_train)\n",
        "X_test_sequences = tokenizer.texts_to_sequences(X_test)\n",
        "\n",
        "# Pad sequences to a fixed length\n",
        "X_train_padded_2 = pad_sequences(X_train_sequences, maxlen= 30, padding='post')\n",
        "X_test_padded_2 = pad_sequences(X_test_sequences, maxlen= 30, padding='post')\n"
      ]
    },
    {
      "cell_type": "code",
      "execution_count": 25,
      "metadata": {
        "colab": {
          "base_uri": "https://localhost:8080/"
        },
        "id": "dtI7Qg-9Sa1l",
        "outputId": "55a1790b-6794-4513-d6e9-82818f733a9e"
      },
      "outputs": [
        {
          "output_type": "stream",
          "name": "stdout",
          "text": [
            "Model: \"sequential_1\"\n",
            "_________________________________________________________________\n",
            " Layer (type)                Output Shape              Param #   \n",
            "=================================================================\n",
            " embedding_1 (Embedding)     (None, 30, 30)            750000    \n",
            "                                                                 \n",
            " lstm_1 (LSTM)               (None, 30, 32)            8064      \n",
            "                                                                 \n",
            " lstm_2 (LSTM)               (None, 32)                8320      \n",
            "                                                                 \n",
            " dense_1 (Dense)             (None, 1)                 33        \n",
            "                                                                 \n",
            "=================================================================\n",
            "Total params: 766,417\n",
            "Trainable params: 766,417\n",
            "Non-trainable params: 0\n",
            "_________________________________________________________________\n",
            "Epoch 1/5\n",
            "11873/11873 [==============================] - 127s 10ms/step - loss: -268.5054 - accuracy: 0.2516 - val_loss: -532.3602 - val_accuracy: 0.2469\n",
            "Epoch 2/5\n",
            "11873/11873 [==============================] - 103s 9ms/step - loss: -804.8961 - accuracy: 0.2516 - val_loss: -1093.7504 - val_accuracy: 0.2469\n",
            "Epoch 3/5\n",
            "11873/11873 [==============================] - 101s 9ms/step - loss: -1367.3893 - accuracy: 0.2516 - val_loss: -1664.1868 - val_accuracy: 0.2469\n",
            "Epoch 4/5\n",
            "11873/11873 [==============================] - 103s 9ms/step - loss: -1933.1017 - accuracy: 0.2516 - val_loss: -2234.4246 - val_accuracy: 0.2469\n",
            "Epoch 5/5\n",
            "11873/11873 [==============================] - 103s 9ms/step - loss: -2499.0129 - accuracy: 0.2516 - val_loss: -2805.4602 - val_accuracy: 0.2469\n"
          ]
        },
        {
          "output_type": "execute_result",
          "data": {
            "text/plain": [
              "<keras.callbacks.History at 0x7e7789d2b310>"
            ]
          },
          "metadata": {},
          "execution_count": 25
        }
      ],
      "source": [
        "# Build and train the second LSTM model with two layers\n",
        "model_2 = Sequential()\n",
        "model_2.add(Embedding(input_dim= 25000, output_dim= 30, input_length= 30))\n",
        "model_2.add(LSTM(32, return_sequences=True))\n",
        "model_2.add(LSTM(32))\n",
        "model_2.add(Dense(1, activation='sigmoid'))\n",
        "model_2.compile(optimizer='adam', loss='binary_crossentropy', metrics=['accuracy'])\n",
        "model_2.summary()\n",
        "\n",
        "model_2.fit(X_train_padded_2, y_train, batch_size= 8, epochs=5 , validation_data=(X_test_padded_2, y_test))"
      ]
    },
    {
      "cell_type": "code",
      "execution_count": 28,
      "metadata": {
        "colab": {
          "base_uri": "https://localhost:8080/"
        },
        "id": "D5J5czXDWvP3",
        "outputId": "50a43594-5fbd-4d56-cfeb-4dd60a151743"
      },
      "outputs": [
        {
          "output_type": "stream",
          "name": "stdout",
          "text": [
            "743/743 [==============================] - 3s 4ms/step\n"
          ]
        },
        {
          "output_type": "stream",
          "name": "stderr",
          "text": [
            "/usr/local/lib/python3.10/dist-packages/sklearn/metrics/_classification.py:1344: UndefinedMetricWarning: Precision and F-score are ill-defined and being set to 0.0 in labels with no predicted samples. Use `zero_division` parameter to control this behavior.\n",
            "  _warn_prf(average, modifier, msg_start, len(result))\n",
            "/usr/local/lib/python3.10/dist-packages/sklearn/metrics/_classification.py:1344: UndefinedMetricWarning: Precision and F-score are ill-defined and being set to 0.0 in labels with no predicted samples. Use `zero_division` parameter to control this behavior.\n",
            "  _warn_prf(average, modifier, msg_start, len(result))\n",
            "/usr/local/lib/python3.10/dist-packages/sklearn/metrics/_classification.py:1344: UndefinedMetricWarning: Precision and F-score are ill-defined and being set to 0.0 in labels with no predicted samples. Use `zero_division` parameter to control this behavior.\n",
            "  _warn_prf(average, modifier, msg_start, len(result))\n"
          ]
        },
        {
          "output_type": "stream",
          "name": "stdout",
          "text": [
            "Classification Report for Model 1:\n",
            "              precision    recall  f1-score   support\n",
            "\n",
            "           1       0.25      1.00      0.40      5862\n",
            "           2       0.00      0.00      0.00      5968\n",
            "           3       0.00      0.00      0.00      5949\n",
            "           4       0.00      0.00      0.00      5966\n",
            "\n",
            "    accuracy                           0.25     23745\n",
            "   macro avg       0.06      0.25      0.10     23745\n",
            "weighted avg       0.06      0.25      0.10     23745\n",
            "\n",
            "743/743 [==============================] - 3s 3ms/step\n",
            "Classification Report for Model 2:\n",
            "              precision    recall  f1-score   support\n",
            "\n",
            "           1       0.25      1.00      0.40      5862\n",
            "           2       0.00      0.00      0.00      5968\n",
            "           3       0.00      0.00      0.00      5949\n",
            "           4       0.00      0.00      0.00      5966\n",
            "\n",
            "    accuracy                           0.25     23745\n",
            "   macro avg       0.06      0.25      0.10     23745\n",
            "weighted avg       0.06      0.25      0.10     23745\n",
            "\n"
          ]
        },
        {
          "output_type": "stream",
          "name": "stderr",
          "text": [
            "/usr/local/lib/python3.10/dist-packages/sklearn/metrics/_classification.py:1344: UndefinedMetricWarning: Precision and F-score are ill-defined and being set to 0.0 in labels with no predicted samples. Use `zero_division` parameter to control this behavior.\n",
            "  _warn_prf(average, modifier, msg_start, len(result))\n",
            "/usr/local/lib/python3.10/dist-packages/sklearn/metrics/_classification.py:1344: UndefinedMetricWarning: Precision and F-score are ill-defined and being set to 0.0 in labels with no predicted samples. Use `zero_division` parameter to control this behavior.\n",
            "  _warn_prf(average, modifier, msg_start, len(result))\n",
            "/usr/local/lib/python3.10/dist-packages/sklearn/metrics/_classification.py:1344: UndefinedMetricWarning: Precision and F-score are ill-defined and being set to 0.0 in labels with no predicted samples. Use `zero_division` parameter to control this behavior.\n",
            "  _warn_prf(average, modifier, msg_start, len(result))\n"
          ]
        }
      ],
      "source": [
        "#Import classification_report from sklearn.metrics\n",
        "from sklearn.metrics import classification_report\n",
        "\n",
        "# Evaluate the first model\n",
        "y_pred_1 = model_1.predict(X_test_padded)\n",
        "y_pred_1 = (y_pred_1 > 0.5).astype(int)\n",
        "report_1 = classification_report(y_test, y_pred_1)\n",
        "print(\"Classification Report for Model 1:\")\n",
        "print(report_1)\n",
        "\n",
        "# Evaluate the second model\n",
        "y_pred_2 = model_2.predict(X_test_padded_2)\n",
        "y_pred_2 = (y_pred_2 > 0.5).astype(int)\n",
        "report_2 = classification_report(y_test, y_pred_2)\n",
        "print(\"Classification Report for Model 2:\")\n",
        "print(report_2)\n"
      ]
    },
    {
      "cell_type": "code",
      "source": [],
      "metadata": {
        "id": "h0WaxFZI_7Fr"
      },
      "execution_count": null,
      "outputs": []
    }
  ],
  "metadata": {
    "accelerator": "GPU",
    "colab": {
      "provenance": []
    },
    "kernelspec": {
      "display_name": "Python 3",
      "name": "python3"
    },
    "language_info": {
      "name": "python"
    }
  },
  "nbformat": 4,
  "nbformat_minor": 0
}